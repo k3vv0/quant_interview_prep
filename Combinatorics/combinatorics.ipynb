{
 "cells": [
  {
   "cell_type": "markdown",
   "metadata": {},
   "source": [
    "*Constants*"
   ]
  },
  {
   "cell_type": "code",
   "execution_count": null,
   "metadata": {},
   "outputs": [],
   "source": [
    "import random\n",
    "import math\n",
    "\n",
    "SIM_COUNT = 100000"
   ]
  },
  {
   "cell_type": "markdown",
   "metadata": {},
   "source": [
    "# Digit Sum of 19\n",
    "How many positive integers are there under 1 million whose digits sum to 19?\n",
    "    \n",
    "## Solution\n",
    "- 1-digit numbers: There are no 1-digit numbers that sum to 19.\n",
    "- 2-digit numbers: There are no 2-digit numbers that sum to 19.\n",
    "- 3-digit numbers: We can use stars and bars to find how many 3-digit numbers sum to 19.\n",
    "    - Let $a, b, c$ be the 1s, 10s, and 100s digits respectively.\n",
    "    - We have the equation $a + b + c = 19$.\n",
    "    - By stars and bars, the number of solutions is $\\\\binom{19 + 3 - 1}{3 - 1} = \\\\binom{21}{2} = 210$.\n",
    "\n",
    "        However, this method also includes the solutions with digits larger than 9. We need to exlude those solutions.\n",
    "    - Let $a', b', c'$ be the 1s, 10s, and 100s digits respectively, such that $a' = a - 10$ or $a = a' + 10$. This means that $a$ would be greater than 9 for $a' > 0$.\n",
    "    $$a + b + c = 19$$\n",
    "    $$(a'+ 10) + b + c = 19$$\n",
    "    $$a' + b + c = 9$$\n",
    "    - By stars and bars, the number of solutions is $\\\\binom{9 + 3 - 1}{3 - 1} = \\\\binom{11}{2} = 55$.\n",
    "    - Following the same logic for $b'$ and $c'$, we know that there are a total of $3 \\\\cdot 55 = 165$ solutions with one exactly one digit greater than 9.\n",
    "    - We know that no more than one digit can be greater than 9 because the sum of the digits is 19, so there are no solutions with two or more digits greater than 9.\n",
    "    - Therefore, the number of 3-digit numbers that sum to 19 is $210 - 165 = 45$.\n",
    "- 4-digit numbers: We can use similar methodology to the 3-digit approach.\n",
    "    - Total possibilities of $a + b + c + d = 19$ is $\\\\binom{19 + 4 - 1}{4 - 1} = \\\\binom{22}{3} = 1540$.\n",
    "    - Total unreachable posibilities of $a' + b + c + d = 9$ is $\\\\binom{9 + 4 - 1}{4 - 1} = \\\\binom{12}{3} = 220$.\n",
    "    - Total reachable possibilities = $1540 - (4 \\\\cdot 220) = 660$.\n",
    "- 5-digit numbers: We can use similar methodology to the 3-digit approach.\n",
    "    - Total possibilities of $a + b + c + d + e = 19$ is $\\\\binom{19 + 5 - 1}{5 - 1} = \\\\binom{23}{4} = 8855$.\n",
    "    - Total unreachable posibilities of $a' + b + c + d + e = 9$ is $\\\\binom{9 + 5 - 1}{5 - 1} = \\\\binom{13}{4} = 715$.\n",
    "    - Total reachable possibilities = $8855 - (5 \\\\cdot 715) = 5280$.\n",
    "- 6-digit numbers (integers under 1 million): We can use similar methodology to the 3-digit approach.\n",
    "    - Total possibilities of $a + b + c + d + e + f = 19$ is $\\\\binom{19 + 6 - 1}{6 - 1} = \\\\binom{24}{5} = 42504$.\n",
    "    - Total unreachable posibilities of $a' + b + c + d + e + f = 9$ is $\\\\binom{9 + 6 - 1}{6 - 1} = \\\\binom{14}{5} = 2002$.\n",
    "    - Total reachable possibilities = $42504 - (6 \\\\cdot 2002) = 30492$.\\n"
   ]
  },
  {
   "cell_type": "code",
   "execution_count": null,
   "metadata": {},
   "outputs": [
    {
     "name": "stdout",
     "output_type": "stream",
     "text": [
      "Total numbers with digit sum 19\n",
      "Observed: 30492\n",
      "Expected: 30492\n",
      "Error: 0.0000\n"
     ]
    }
   ],
   "source": [
    "sol = math.comb(24, 5) - (6 * math.comb(14, 5))\n",
    "\n",
    "count = 0\n",
    "for i in range(1, 1000000):\n",
    "    total = sum([int(x) for x in str(i)])\n",
    "    if total == 19:\n",
    "        count += 1\n",
    "print(f\"Total numbers with digit sum 19\")\n",
    "print(f\"Observed: {count}\")\n",
    "print(f\"Expected: {sol}\")"
   ]
  },
  {
   "cell_type": "markdown",
   "metadata": {},
   "source": [
    "# Coin Bundle\n",
    "You are given a pile of $100$ coins. You may arrange these coins into however many stacks you want and you may put as many coins into each stack as you would like. Your payout would be the product of the number of coins among all of the stacks.\n",
    "\n",
    "For example, if you make three stacks of sizes $20$, $20$, and $60$, your payout would be $20 \\cdot 20 \\cdot 60 = 24000$. The optimal arrangement of the coins will give you a payout of $a * b^c$, where $a$, and $b$ are relatively prime. Find $a$, $b$, and $c$.\n",
    "\n",
    "## Solution\n",
    "Imagine the the casess where we have 50 stacks of 2 coins and 25 stacks of 4 coins. In both cases, the payout is equal to $4^{25} = 2^{2^{25}} =  2^{50}$. Since the payouts as a function of a and b are a non-linear function, we know that there exists some local extremum between the two cases. We also know that the payout of 1 stack of 100 coins is $100^{1} = 100$, and the payout of 100 stacks of 1 coin is $1^{100} = 1$. Since these payouts are less than the payout of 50 stacks of 2 coins and 25 stacks of 4 coins, we know that the extremum is a maximum. Since 3 is the only whole number between 2 and 4, we know that the optimal payout must use groups of 3. If we make as many groups of 3 as we can, we get 33 groups of 3 and 1 group of 1. Since we are multiplying the number of coins in each group and the group of one isn't adding to our product, we can add the final coin to an existing group of 3 to increase one of our multipliers from 3 to 4. In this configuration, the payout can be calculated by $4 * 3^{32}$, where $a = 4$, $b = 3$, and $c = 32$."
   ]
  }
 ],
 "metadata": {
  "language_info": {
   "name": "python"
  }
 },
 "nbformat": 4,
 "nbformat_minor": 2
}
