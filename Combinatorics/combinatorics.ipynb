{
 "cells": [
  {
   "cell_type": "markdown",
   "metadata": {},
   "source": [
    "*Constants*"
   ]
  },
  {
   "cell_type": "code",
   "execution_count": null,
   "metadata": {},
   "outputs": [],
   "source": [
    "import random\n",
    "import math\n",
    "\n",
    "SIM_COUNT = 100000"
   ]
  },
  {
   "cell_type": "markdown",
   "metadata": {},
   "source": [
    "# Digit Sum of 19\n",
    "How many positive integers are there under 1 million whose digits sum to 19?\n",
    "    \n",
    "## Solution\n",
    "- 1-digit numbers: There are no 1-digit numbers that sum to 19.\n",
    "- 2-digit numbers: There are no 2-digit numbers that sum to 19.\n",
    "- 3-digit numbers: We can use stars and bars to find how many 3-digit numbers sum to 19.\n",
    "    - Let $a, b, c$ be the 1s, 10s, and 100s digits respectively.\n",
    "    - We have the equation $a + b + c = 19$.\n",
    "    - By stars and bars, the number of solutions is $\\\\binom{19 + 3 - 1}{3 - 1} = \\\\binom{21}{2} = 210$.\n",
    "\n",
    "        However, this method also includes the solutions with digits larger than 9. We need to exlude those solutions.\n",
    "    - Let $a', b', c'$ be the 1s, 10s, and 100s digits respectively, such that $a' = a - 10$ or $a = a' + 10$. This means that $a$ would be greater than 9 for $a' > 0$.\n",
    "    $$a + b + c = 19$$\n",
    "    $$(a'+ 10) + b + c = 19$$\n",
    "    $$a' + b + c = 9$$\n",
    "    - By stars and bars, the number of solutions is $\\\\binom{9 + 3 - 1}{3 - 1} = \\\\binom{11}{2} = 55$.\n",
    "    - Following the same logic for $b'$ and $c'$, we know that there are a total of $3 \\\\cdot 55 = 165$ solutions with one exactly one digit greater than 9.\n",
    "    - We know that no more than one digit can be greater than 9 because the sum of the digits is 19, so there are no solutions with two or more digits greater than 9.\n",
    "    - Therefore, the number of 3-digit numbers that sum to 19 is $210 - 165 = 45$.\n",
    "- 4-digit numbers: We can use similar methodology to the 3-digit approach.\n",
    "    - Total possibilities of $a + b + c + d = 19$ is $\\\\binom{19 + 4 - 1}{4 - 1} = \\\\binom{22}{3} = 1540$.\n",
    "    - Total unreachable posibilities of $a' + b + c + d = 9$ is $\\\\binom{9 + 4 - 1}{4 - 1} = \\\\binom{12}{3} = 220$.\n",
    "    - Total reachable possibilities = $1540 - (4 \\\\cdot 220) = 660$.\n",
    "- 5-digit numbers: We can use similar methodology to the 3-digit approach.\n",
    "    - Total possibilities of $a + b + c + d + e = 19$ is $\\\\binom{19 + 5 - 1}{5 - 1} = \\\\binom{23}{4} = 8855$.\n",
    "    - Total unreachable posibilities of $a' + b + c + d + e = 9$ is $\\\\binom{9 + 5 - 1}{5 - 1} = \\\\binom{13}{4} = 715$.\n",
    "    - Total reachable possibilities = $8855 - (5 \\\\cdot 715) = 5280$.\n",
    "- 6-digit numbers (integers under 1 million): We can use similar methodology to the 3-digit approach.\n",
    "    - Total possibilities of $a + b + c + d + e + f = 19$ is $\\\\binom{19 + 6 - 1}{6 - 1} = \\\\binom{24}{5} = 42504$.\n",
    "    - Total unreachable posibilities of $a' + b + c + d + e + f = 9$ is $\\\\binom{9 + 6 - 1}{6 - 1} = \\\\binom{14}{5} = 2002$.\n",
    "    - Total reachable possibilities = $42504 - (6 \\\\cdot 2002) = 30492$.\\n"
   ]
  },
  {
   "cell_type": "code",
   "execution_count": null,
   "metadata": {},
   "outputs": [
    {
     "name": "stdout",
     "output_type": "stream",
     "text": [
      "Total numbers with digit sum 19\n",
      "Observed: 30492\n",
      "Expected: 30492\n",
      "Error: 0.0000\n"
     ]
    }
   ],
   "source": [
    "sol = math.comb(24, 5) - (6 * math.comb(14, 5))\n",
    "\n",
    "count = 0\n",
    "for i in range(1, 1000000):\n",
    "    total = sum([int(x) for x in str(i)])\n",
    "    if total == 19:\n",
    "        count += 1\n",
    "print(f\"Total numbers with digit sum 19\")\n",
    "print(f\"Observed: {count}\")\n",
    "print(f\"Expected: {sol}\")"
   ]
  }
 ],
 "metadata": {
  "language_info": {
   "name": "python"
  }
 },
 "nbformat": 4,
 "nbformat_minor": 2
}
