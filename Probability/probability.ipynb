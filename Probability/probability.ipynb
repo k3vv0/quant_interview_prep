{
 "cells": [
  {
   "cell_type": "markdown",
   "metadata": {},
   "source": [
    "*Constants*"
   ]
  },
  {
   "cell_type": "code",
   "execution_count": null,
   "metadata": {},
   "outputs": [],
   "source": [
    "import random\n",
    "import math\n",
    "\n",
    "SIM_COUNT = 100000"
   ]
  },
  {
   "cell_type": "markdown",
   "metadata": {},
   "source": [
    "# Ascending Dice Rolls\n",
    "You throw three fair dice consecutively. What is the probability that you obtain three numbers in strictly increasing order?\n",
    "\n",
    "## Solution\n",
    "- Let $A$ be the event that we roll three different numbers\n",
    "- Let $B$ be the event that three rolls are in strictly increasing order\n",
    "- Let $P(A)$ be the probability of event $A$\n",
    "- Let $P(B)$ be the probability of event $B$\n",
    "- Let $P(B|A)$ be the probability that we roll three numbers in strictly increasing order given that we roll three different numbers\n",
    "- Let $P(A \\cap B)$ be the probability that we roll three different numbers in strictly increasing order\n",
    "\n",
    "To solve this problem, we can use conditional probability. Recall that the probability of an event $B$ given that event $A$ has already occurred is given by the formula:\n",
    "$$P(B|A) = \\frac{P(A \\cap B)}{P(A)}$$\n",
    "\n",
    "We can rewrite this formula to solve for $P(A \\cap B)$:\n",
    "$$P(A \\cap B) = P(A) \\cdot P(B|A)$$\n",
    "\n",
    "Since $A$ and $B$ are independent events, we can rewrite the formula as:\n",
    "$$P(A \\cap B) = P(A) \\cdot P(B)$$\n",
    "\n",
    "Therefore, the probability that we roll three different numbers in strictly increasing order is equal to the probability that we roll three different numbers multiplied by the probability that we roll three numbers in strictly increasing order.\n",
    "\n",
    "$P(A)$ is the probability of rolling three different numbers. The probability of drawing 3 numbers without replacement is $\\frac{6}{6} \\cdot \\frac{5}{6} \\cdot \\frac{4}{6} = \\frac{5}{9}$.\n",
    "\n",
    "$P(B)$ is the probability of any three distinct numbers being in ascending order. There is only one ascending order between 3 distinct numbers, and there are $3! = 6$ ways to arrange the three numbers. Therefore, $P(B) = \\frac{1}{3!} = \\frac{1}{6}$.\n",
    "\n",
    "Therefore, the probability that we roll three different numbers in strictly increasing order is:\n",
    "$$P(A \\cap B) = P(A) \\cdot P(B) = \\frac{5}{9} \\cdot \\frac{1}{6} = \\frac{5}{54}$$"
   ]
  },
  {
   "cell_type": "code",
   "execution_count": 51,
   "metadata": {},
   "outputs": [
    {
     "name": "stdout",
     "output_type": "stream",
     "text": [
      "Probability of obtaining three rolls in strictly increasing order:\n",
      "Observed: 0.0931\n",
      "Expected: 0.0926\n",
      "Error: 0.0005\n"
     ]
    }
   ],
   "source": [
    "sol = 6/6 * 5/6 * 4/6 * 1/(math.factorial(3))\n",
    "\n",
    "def roll_dice(n):\n",
    "    return [random.randint(1, 6) for _ in range(n)]\n",
    "\n",
    "num_ascending = 0\n",
    "\n",
    "for i in range(SIM_COUNT):\n",
    "    rolls = roll_dice(3)\n",
    "    if rolls[0] < rolls[1] < rolls[2]:\n",
    "        num_ascending += 1\n",
    "\n",
    "print(f\"Probability of obtaining three rolls in strictly increasing order:\")\n",
    "print(f\"Observed: {(num_ascending / SIM_COUNT):.4f}\")\n",
    "print(f\"Expected: {sol:.4f}\")\n",
    "print(f\"Error: {abs(num_ascending / SIM_COUNT - sol):.4f}\")\n"
   ]
  },
  {
   "cell_type": "markdown",
   "metadata": {},
   "source": [
    "# How Many Heads\n",
    "There are three coins in a hat. One with probability $\\frac{1}{3}$ of getting heads, another with prbability $\\frac{2}{3}$ of heads, and the last coin always landing on heads. I take one out and flip it twice landing on heads both times. If I flip the coin twelve more times, how many heads do you expect among these flips?\n",
    "\n",
    "## Solution\n",
    "- Let $A$ be the event that we draw the coin with probability $\\frac{1}{3}$ of getting heads\n",
    "- Let $H_A$ be the event that we get heads from the aforementioned coin\n",
    "- Let $B$ be the event that we draw the coin with probability $\\frac{2}{3}$ of getting heads\n",
    "- Let $H_B$ be the event that we get heads from the aforementioned coin\n",
    "- Let $C$ be the event that we draw the coin that always lands on heads\n",
    "- Let $H_C$ be the event that we get heads from the aforementioned coin\n",
    "- Let $H$ be the event that we get heads\n",
    "- Let $P(A) = P(B) = P(C) = \\frac{1}{3}$ be the probability of events $A$, $B$, and $C$ respectively\n",
    "- Let $P(H_A) = \\frac{1}{3}$, $P(H_B) = \\frac{2}{3}$, and $P(H_C) = 1$ be the probability of getting heads from events $A$, $B$, and $C$ respectively\n",
    "- Let $P(H_2)$ be the probability that we get heads twice\n",
    "$$P(H_2) = \\frac{1}{3} \\cdot \\frac{1}{3}^2 + \\frac{1}{3} \\cdot \\frac{2}{3}^2 \\frac{1}{3} \\cdot 1^2 = \\frac{14}{27}$$\n",
    "The probability we chose coin $A$ given that we got heads twice is equal to the probabilty that we chose coin $A$ and got heads twice with coin $A$ all divided by the probability that we got heads twice. Similar probabilities can be calculated for coin $B$ and coin $C$.\n",
    "$$P(A|H_2) = \\frac{P(A) * P(H_A)^2}{P(H_2)} = \\frac{1}{14}$$\n",
    "$$P(B|H_2) = \\frac{P(B) * P(H_B)^2}{P(H_2)} = \\frac{4}{14}$$\n",
    "$$P(C|H_2) = 1 - P(A|H_2) - P(B|H_2) = \\frac{9}{14}$$\n",
    "$$E[H_{12}] = 12 \\cdot (P(A|H_2) \\cdot P(H_A) + P(B|H_2) \\cdot P(H_B) + P(C|H_2) \\cdot P(H_C)) = 12 \\cdot \\frac{1}{14} \\cdot \\frac{1}{3} + 12 \\cdot \\frac{4}{14} \\cdot \\frac{2}{3} + 12 \\cdot \\frac{9}{14} \\cdot 1 = \\frac{72}{7}$$\n"
   ]
  },
  {
   "cell_type": "code",
   "execution_count": null,
   "metadata": {},
   "outputs": [
    {
     "name": "stdout",
     "output_type": "stream",
     "text": [
      "Expected number of heads among 12 coin flips\n",
      "Observed: 10.2907\n",
      "Expected: 10.2857\n",
      "Error: 0.0050\n"
     ]
    }
   ],
   "source": [
    "sol = 12 * ((1/14) * (1/3) + (4/14) * (2/3) + (9/14) * 1)\n",
    "def weighted_coin_flip(n, p):\n",
    "    return sum([random.random() < p for _ in range(n)])\n",
    "\n",
    "coins = [1/3, 2/3, 1]\n",
    "count = 0\n",
    "iters = 0\n",
    "while iters < SIM_COUNT:\n",
    "    coin = random.choice(coins)\n",
    "    if weighted_coin_flip(2, coin) == 2:\n",
    "        count += weighted_coin_flip(12, coin)\n",
    "        iters += 1\n",
    "\n",
    "print(f\"Expected number of heads among 12 coin flips\")\n",
    "print(f\"Observed: {(count / SIM_COUNT):.4f}\")\n",
    "print(f\"Expected: {sol:.4f}\")\n",
    "print(f\"Error: {abs((count / SIM_COUNT) - sol):.4f}\")\n"
   ]
  },
  {
   "cell_type": "markdown",
   "metadata": {},
   "source": [
    "# Number of Runs\n",
    "Imagine you are given a standard deck of 52 cards (half of the cards are red and the other half are black). A run is defined as a block of cards that are drawn consecutively and all have the same color. As an example, BBRRBBB has 3 runs. Find the expected number of runs in a shuffled deck of cards.\n",
    "\n",
    "## Solution\n",
    "- Let $Y = 1$ when $X_i \\neq X_{i-1}$ and $Y = 0$ when $X_i = X_{i-1}$\n",
    "$$E[Y_i] = P(X_i \\neq X_{i-1})$$\n",
    "$$E[N] = E[\\sum_{i=1}^{51} Y_i] + 1 = \\sum_{i=1}^{51} E[Y_i] + 1 = \\sum_{i=1}^{51} \\frac{\\text{Number of cards where $X_i \\neq X_{i-1}$}}{\\text{Total number of remaining cards}} + 1 = 51 \\cdot \\frac{26}{51} + 1 = 27$$\n",
    "\n"
   ]
  },
  {
   "cell_type": "code",
   "execution_count": null,
   "metadata": {},
   "outputs": [
    {
     "name": "stdout",
     "output_type": "stream",
     "text": [
      "Expected number of runs\n",
      "Observed: 27.0023\n",
      "Expected: 27.0000\n",
      "Error: 0.0023\n"
     ]
    }
   ],
   "source": [
    "sol = 51 * (26/51) + 1\n",
    "\n",
    "class Card:\n",
    "    def __init__(self, suit, value, color):\n",
    "        self.suit = suit\n",
    "        self.value = value\n",
    "        self.color = color\n",
    "\n",
    "    def __repr__(self):\n",
    "        return f\"{self.value} of {self.suit} ({self.color})\"\n",
    "\n",
    "class CardDeck:\n",
    "    def __init__(self):\n",
    "        self.cards = []\n",
    "        for suit in [\"Hearts\", \"Diamonds\", \"Clubs\", \"Spades\"]:\n",
    "            for value in range(1, 14):\n",
    "                color = \"Red\" if suit in [\"Hearts\", \"Diamonds\"] else \"Black\"\n",
    "                self.cards.append(Card(suit, value, color))\n",
    "\n",
    "    def __len__(self):\n",
    "        return len(self.cards)\n",
    "    \n",
    "    def __repr__(self):\n",
    "        return f\"CardDeck({self.cards})\"\n",
    "    \n",
    "    def shuffle(self):\n",
    "        random.shuffle(self.cards)\n",
    "\n",
    "    def draw(self):\n",
    "        return self.cards.pop()\n",
    "    \n",
    "    def empty(self):\n",
    "        return len(self.cards) == 0\n",
    "    \n",
    "\n",
    "runs = 0\n",
    "for _ in range(SIM_COUNT):\n",
    "    deck = CardDeck()\n",
    "    deck.shuffle()\n",
    "    card = deck.draw()\n",
    "    last_color = card.color\n",
    "    while not deck.empty():\n",
    "        card = deck.draw()\n",
    "        if card.color != last_color:\n",
    "            runs += 1\n",
    "            last_color = card.color\n",
    "    runs += 1\n",
    "\n",
    "\n",
    "print(f\"Expected number of runs\")\n",
    "print(f\"Observed: {(runs / SIM_COUNT):.4f}\")\n",
    "print(\"fExpected: {sol:.4f}\")\n",
    "print(f\"Error: {abs((runs / SIM_COUNT) - sol):.4f}\")"
   ]
  }
 ],
 "metadata": {
  "kernelspec": {
   "display_name": "base",
   "language": "python",
   "name": "python3"
  },
  "language_info": {
   "codemirror_mode": {
    "name": "ipython",
    "version": 3
   },
   "file_extension": ".py",
   "mimetype": "text/x-python",
   "name": "python",
   "nbconvert_exporter": "python",
   "pygments_lexer": "ipython3",
   "version": "3.11.5"
  }
 },
 "nbformat": 4,
 "nbformat_minor": 2
}
