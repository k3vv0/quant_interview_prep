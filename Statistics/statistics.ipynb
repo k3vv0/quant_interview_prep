{
 "cells": [
  {
   "cell_type": "markdown",
   "metadata": {},
   "source": [
    "*Constants*"
   ]
  },
  {
   "cell_type": "code",
   "execution_count": 16,
   "metadata": {},
   "outputs": [],
   "source": [
    "import random\n",
    "import math\n",
    "import scipy.stats as stats\n",
    "\n",
    "SIM_COUNT = 10000"
   ]
  },
  {
   "cell_type": "markdown",
   "metadata": {},
   "source": [
    "# Quilt Shop\n",
    "A quilt shop sells three different colored quilts: blue, red, and green. Of the first 1000 quilts sold, 400 were green. Calculate the appropriate test statistic to determine if customers have a preference for green quilts. Assume random sampling, variance homogeneity, and that preference is approximately normally distributed.\n",
    "\n",
    "## Solution\n",
    "Because we are comparing the observed proportion of green quilts sold to the expected proportion of green quilts sold under a normal distribution ($1/3$), we can use the one-sample z-test for proportions.\n",
    "- $H_0$: $p = 1/3$\n",
    "- $H_a$: $p \\geq 1/3$\n",
    "$$ z = \\frac{\\hat{p} - p}{\\sqrt{\\frac{p(1-p)}{n}}} = \\frac{0.4 - 1/3}{\\sqrt{\\frac{1/3(2/3)}{1000}}} \\approx 4.47$$\n",
    "where $\\hat{p}$ is the observed proportion of green quilts sold, $p$ is the expected proportion of green quilts sold, and $n$ is the number of quilts sold. Solving for this, we get $z \\approx 4.47$. The critical value for a 95% confidence interval is 1.96, and $4.47 > 1.96$, so we can reject the null hypothesis and conclude that customers have a preference for green quilts."
   ]
  },
  {
   "cell_type": "code",
   "execution_count": 61,
   "metadata": {},
   "outputs": [
    {
     "data": {
      "text/plain": [
       "'z: 4.472135954999582, p: 7.744216431043954e-06'"
      ]
     },
     "execution_count": 61,
     "metadata": {},
     "output_type": "execute_result"
    }
   ],
   "source": [
    "z, p = proportions_ztest(400, 1000, 1/3, 'two-sided', 1/3)\n",
    "f\"z: {z}, p: {p}\"\n"
   ]
  }
 ],
 "metadata": {
  "kernelspec": {
   "display_name": "base",
   "language": "python",
   "name": "python3"
  },
  "language_info": {
   "codemirror_mode": {
    "name": "ipython",
    "version": 3
   },
   "file_extension": ".py",
   "mimetype": "text/x-python",
   "name": "python",
   "nbconvert_exporter": "python",
   "pygments_lexer": "ipython3",
   "version": "3.11.5"
  }
 },
 "nbformat": 4,
 "nbformat_minor": 2
}
