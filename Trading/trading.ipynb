{
 "cells": [
  {
   "cell_type": "markdown",
   "metadata": {},
   "source": [
    "*Constants*"
   ]
  },
  {
   "cell_type": "code",
   "execution_count": null,
   "metadata": {},
   "outputs": [],
   "source": [
    "import random\n",
    "import math\n",
    "\n",
    "SIM_COUNT = 100000"
   ]
  },
  {
   "cell_type": "markdown",
   "metadata": {},
   "source": [
    "# Buy and Sell Stock\n",
    "\n",
    "You are given an array of stock prices where prices[$i$] is the price of a given stock on the $i\\text{th}$ day.\n",
    "\n",
    "You want to maximize your profit by choosing a single day to buy one stock and choosing a different day in the future to sell that stock.\n",
    "\n",
    "Write a python program that will return the maximum profit you can achieve from this transaction. If you cannot achieve any profit, return 0.\n",
    "\n",
    "Example 1:\n",
    "```python\n",
    "Input: prices = [7,1,5,3,6,4]\n",
    "Output: 5\n",
    "# Explanation: Buy on day 2 (price = 1) and sell on day 5 (price = 6), profit = 6-1 = 5.\n",
    "# Note that buying on day 2 and selling on day 1 is not allowed because you must buy before you sell.\n",
    "```\n",
    "Example 2:\n",
    "```python\n",
    "Input: prices = [7,6,4,3,1]\n",
    "Output: 0\n",
    "# Explanation: In this case, no transactions are done and the max profit = 0.\n",
    "```"
   ]
  },
  {
   "cell_type": "code",
   "execution_count": 1,
   "metadata": {},
   "outputs": [
    {
     "name": "stdout",
     "output_type": "stream",
     "text": [
      "4\n",
      "5\n",
      "0\n",
      "4\n",
      "90\n"
     ]
    }
   ],
   "source": [
    "from typing import List\n",
    "\n",
    "def buy_and_sell_stock(prices: List[int]) -> int:\n",
    "    high = prices[0]\n",
    "    low = prices[0]\n",
    "    max_profit = 0\n",
    "    for i in range(1, len(prices)):\n",
    "        if prices[i] > high:\n",
    "            high = prices[i]\n",
    "            max_profit = max(max_profit, high - low)\n",
    "        elif prices[i] < low:\n",
    "            low = prices[i]\n",
    "            high = prices[i]\n",
    "    return max_profit\n",
    "\n",
    "\n",
    "\"\"\"\n",
    "Test cases\n",
    "\"\"\"\n",
    "print(buy_and_sell_stock([1, 2, 3, 4, 5])) # 4\n",
    "print(buy_and_sell_stock([7, 1, 5, 3, 6, 4])) # 5\n",
    "print(buy_and_sell_stock([7, 6, 4, 3, 1])) # 0\n",
    "print(buy_and_sell_stock([13, 2, 6, 1, 4])) # 4\n",
    "print(buy_and_sell_stock([99, 22, 43, 112, 53, 2, 79, 91])) # 90"
   ]
  },
  {
   "cell_type": "markdown",
   "metadata": {},
   "source": [
    "# Most Traded\n",
    "Given a stream of stock data, create a data structure that can efficiently handle the following functions:\n",
    "- `execute_trade(ticker, volume)` - store the trade taht has occurred\n",
    "- `most_traded(k)` - return the k most traded stocks by volume. The return format should be a list of strings with each string being formated as `<TICKER> <VOLUME>`\n",
    "\n",
    "Example:\n",
    "```python\n",
    "st = StockTracker()\n",
    "st.execute_trade('TSLA', 1000)\n",
    "st.execute_trade('NFLX', 700)\n",
    "st.execute_trade('TSLA', 200)\n",
    "st.execute_trade('META', 1400)\n",
    "st.most_traded(2)\n",
    "# This should return the following:\n",
    "# META 1400\n",
    "# TSLA 1200\n",
    "```"
   ]
  },
  {
   "cell_type": "code",
   "execution_count": 2,
   "metadata": {},
   "outputs": [
    {
     "name": "stdout",
     "output_type": "stream",
     "text": [
      "['META 1400', 'TSLA 1200']\n",
      "['TSLA 1700', 'META 1400']\n",
      "['TSLA 1700', 'META 1400', 'TSLA 1700']\n",
      "['NFLX 2000']\n"
     ]
    }
   ],
   "source": [
    "from typing import List\n",
    "import heapq\n",
    "\n",
    "class StockTracker:\n",
    "    def __init__(self) -> None:\n",
    "        self.trades = []\n",
    "        self.tickers = {}\n",
    "\n",
    "    def execute_trade(self, ticker: str, volume: int) -> None:\n",
    "        if ticker not in self.tickers:\n",
    "            self.tickers[ticker] = volume\n",
    "        else:\n",
    "            self.tickers[ticker] += volume\n",
    "        self.trades.append((-self.tickers[ticker], ticker))\n",
    "\n",
    "    def most_traded(self, k: int) -> List[str]:\n",
    "        res = []\n",
    "        res_tickers = []\n",
    "        heapq.heapify(self.trades)\n",
    "        for _ in range(k):\n",
    "            tick = heapq.heappop(self.trades)[1]\n",
    "            res.append(f\"{tick} {self.tickers[tick]}\")\n",
    "            res_tickers.append(tick)\n",
    "        for ticker in res_tickers:\n",
    "            heapq.heappush(self.trades, (-self.tickers[ticker], ticker))\n",
    "        return res\n",
    "\n",
    "\n",
    "\"\"\"\n",
    "Test cases\n",
    "\"\"\"\n",
    "\n",
    "st = StockTracker()\n",
    "st.execute_trade('TSLA', 1000)\n",
    "st.execute_trade('NFLX', 700)\n",
    "st.execute_trade('TSLA', 200)\n",
    "st.execute_trade('META', 1400)\n",
    "print(st.most_traded(2)) # META, TSLA\n",
    "st.execute_trade('TSLA', 500)\n",
    "print(st.most_traded(2)) # TSLA, META\n",
    "st.execute_trade('NFLX', 300)\n",
    "print(st.most_traded(3)) # TSLA, META, NFLX\n",
    "st.execute_trade('NFLX', 1000)\n",
    "print(st.most_traded(1)) # NFLX"
   ]
  }
 ],
 "metadata": {
  "kernelspec": {
   "display_name": "base",
   "language": "python",
   "name": "python3"
  },
  "language_info": {
   "codemirror_mode": {
    "name": "ipython",
    "version": 3
   },
   "file_extension": ".py",
   "mimetype": "text/x-python",
   "name": "python",
   "nbconvert_exporter": "python",
   "pygments_lexer": "ipython3",
   "version": "3.11.5"
  }
 },
 "nbformat": 4,
 "nbformat_minor": 2
}
