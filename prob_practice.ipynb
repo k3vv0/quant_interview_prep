{
 "cells": [
  {
   "cell_type": "code",
   "execution_count": 10,
   "metadata": {},
   "outputs": [],
   "source": [
    "import random\n",
    "\n",
    "SIM_COUNT = 100000"
   ]
  },
  {
   "cell_type": "markdown",
   "metadata": {},
   "source": [
    "# Ascending Dice Rolls\n",
    "You throw three fair dice consecutively. What is the probability that you obtain three numbers in strictly increasing order?\n",
    "\n",
    "## Solution\n",
    "- Let $A$ be the event that we roll three different numbers\n",
    "- Let $B$ be the event that three rolls are in strictly increasing order\n",
    "- Let $P(A)$ be the probability of event $A$\n",
    "- Let $P(B)$ be the probability of event $B$\n",
    "- Let $P(B|A)$ be the probability that we roll three numbers in strictly increasing order given that we roll three different numbers\n",
    "- Let $P(A \\cap B)$ be the probability that we roll three different numbers in strictly increasing order\n",
    "\n",
    "To solve this problem, we can use conditional probability. Recall that the probability of an event $B$ given that event $A$ has already occurred is given by the formula:\n",
    "$$P(B|A) = \\frac{P(A \\cap B)}{P(A)}$$\n",
    "\n",
    "We can rewrite this formula to solve for $P(A \\cap B)$:\n",
    "$$P(A \\cap B) = P(A) \\cdot P(B|A)$$\n",
    "\n",
    "Since $A$ and $B$ are independent events, we can rewrite the formula as:\n",
    "$$P(A \\cap B) = P(A) \\cdot P(B)$$\n",
    "\n",
    "Therefore, the probability that we roll three different numbers in strictly increasing order is equal to the probability that we roll three different numbers multiplied by the probability that we roll three numbers in strictly increasing order.\n",
    "\n",
    "$P(A)$ is the probability of rolling three different numbers. The probability of drawing 3 numbers without replacement is $\\frac{6}{6} \\cdot \\frac{5}{6} \\cdot \\frac{4}{6} = \\frac{5}{9}$.\n",
    "\n",
    "$P(B)$ is the probability of any three distinct numbers being in ascending order. There is only one ascending order between 3 distinct numbers, and there are $3! = 6$ ways to arrange the three numbers. Therefore, $P(B) = \\frac{1}{3!} = \\frac{1}{6}$.\n",
    "\n",
    "Therefore, the probability that we roll three different numbers in strictly increasing order is:\n",
    "$$P(A \\cap B) = P(A) \\cdot P(B) = \\frac{5}{9} \\cdot \\frac{1}{6} = \\frac{5}{54}$$"
   ]
  },
  {
   "cell_type": "code",
   "execution_count": 11,
   "metadata": {},
   "outputs": [
    {
     "name": "stdout",
     "output_type": "stream",
     "text": [
      "Probability of obtaining three rolls in strictly increasing order: 0.09358\n",
      "Expected probability: 0.0926\n",
      "Error: 0.0010\n"
     ]
    }
   ],
   "source": [
    "def roll_dice(n):\n",
    "    return [random.randint(1, 6) for _ in range(n)]\n",
    "\n",
    "num_ascending = 0\n",
    "\n",
    "for i in range(SIM_COUNT):\n",
    "    rolls = roll_dice(3)\n",
    "    if rolls[0] < rolls[1] < rolls[2]:\n",
    "        num_ascending += 1\n",
    "\n",
    "print(f\"Probability of obtaining three rolls in strictly increasing order: {num_ascending / SIM_COUNT}\")\n",
    "print(f\"Expected probability: {5/54:.4f}\")\n",
    "print(f\"Error: {abs(num_ascending / SIM_COUNT - 5/54):.4f}\")\n"
   ]
  }
 ],
 "metadata": {
  "kernelspec": {
   "display_name": "base",
   "language": "python",
   "name": "python3"
  },
  "language_info": {
   "codemirror_mode": {
    "name": "ipython",
    "version": 3
   },
   "file_extension": ".py",
   "mimetype": "text/x-python",
   "name": "python",
   "nbconvert_exporter": "python",
   "pygments_lexer": "ipython3",
   "version": "3.11.5"
  }
 },
 "nbformat": 4,
 "nbformat_minor": 2
}
