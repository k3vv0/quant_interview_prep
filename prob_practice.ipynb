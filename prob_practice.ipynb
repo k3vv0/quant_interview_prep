{
 "cells": [
  {
   "cell_type": "code",
   "execution_count": 6,
   "metadata": {},
   "outputs": [],
   "source": [
    "import random\n",
    "\n",
    "SIM_COUNT = 10000000"
   ]
  },
  {
   "cell_type": "markdown",
   "metadata": {},
   "source": [
    "# Ascending Dice Rolls\n",
    "You throw three fair dice consecutively. What is the probability that you obtain three numbers in strictly increasing order?\n",
    "\n",
    "## Solution\n",
    "Let $A$ be the event that we roll three different numbers\n",
    "Let $B$ be the event that we roll three numbers in strictly increasing order\n",
    "\n",
    "To solve this problem, we can use conditional probability. Recall that the probability of an event $A$ given that event $B$ has occurred is given by the formula:\n",
    "$$P(A|B) = \\frac{P(A \\cap B)}{P(B)}$$\n",
    "\n",
    "We can rewrite this formula to solve for $P(B)$:\n",
    "$$P(B) = \\frac{P(A \\cap B)}{P(A|B)}$$"
   ]
  },
  {
   "cell_type": "code",
   "execution_count": 7,
   "metadata": {},
   "outputs": [
    {
     "name": "stdout",
     "output_type": "stream",
     "text": [
      "Probability of obtaining three rolls in strictly increasing order: 0.092538\n",
      "Expected probability: 0.0926\n",
      "Error: 0.0001\n"
     ]
    }
   ],
   "source": [
    "def roll_dice(n):\n",
    "    return [random.randint(1, 6) for _ in range(n)]\n",
    "\n",
    "num_ascending = 0\n",
    "\n",
    "for i in range(SIM_COUNT):\n",
    "    rolls = roll_dice(3)\n",
    "    if rolls[0] < rolls[1] < rolls[2]:\n",
    "        num_ascending += 1\n",
    "\n",
    "print(f\"Probability of obtaining three rolls in strictly increasing order: {num_ascending / SIM_COUNT}\")\n",
    "print(f\"Expected probability: {5/54:.4f}\")\n",
    "print(f\"Error: {abs(num_ascending / SIM_COUNT - 5/54):.4f}\")\n"
   ]
  }
 ],
 "metadata": {
  "kernelspec": {
   "display_name": "base",
   "language": "python",
   "name": "python3"
  },
  "language_info": {
   "codemirror_mode": {
    "name": "ipython",
    "version": 3
   },
   "file_extension": ".py",
   "mimetype": "text/x-python",
   "name": "python",
   "nbconvert_exporter": "python",
   "pygments_lexer": "ipython3",
   "version": "3.11.5"
  }
 },
 "nbformat": 4,
 "nbformat_minor": 2
}
